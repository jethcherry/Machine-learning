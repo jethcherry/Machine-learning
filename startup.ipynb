{
 "cells": [
  {
   "cell_type": "code",
   "execution_count": 17,
   "metadata": {},
   "outputs": [],
   "source": [
    "import pandas as pd\n",
    "import warnings\n",
    "import numpy as np\n",
    "from sklearn.model_selection import train_test_split\n",
    "from sklearn.linear_model import LogisticRegression\n",
    "from sklearn.metrics import accuracy_score\n",
    "from joblib import dump"
   ]
  },
  {
   "cell_type": "code",
   "execution_count": 18,
   "metadata": {},
   "outputs": [],
   "source": [
    "data=pd.read_csv(\"startup data.csv\")"
   ]
  },
  {
   "cell_type": "code",
   "execution_count": 19,
   "metadata": {},
   "outputs": [
    {
     "data": {
      "text/plain": [
       "Index(['Unnamed: 0', 'state_code', 'latitude', 'longitude', 'zip_code', 'id',\n",
       "       'city', 'Unnamed: 6', 'name', 'labels', 'founded_at', 'closed_at',\n",
       "       'first_funding_at', 'last_funding_at', 'age_first_funding_year',\n",
       "       'age_last_funding_year', 'age_first_milestone_year',\n",
       "       'age_last_milestone_year', 'relationships', 'funding_rounds',\n",
       "       'funding_total_usd', 'milestones', 'state_code.1', 'is_CA', 'is_NY',\n",
       "       'is_MA', 'is_TX', 'is_otherstate', 'category_code', 'is_software',\n",
       "       'is_web', 'is_mobile', 'is_enterprise', 'is_advertising',\n",
       "       'is_gamesvideo', 'is_ecommerce', 'is_biotech', 'is_consulting',\n",
       "       'is_othercategory', 'object_id', 'has_VC', 'has_angel', 'has_roundA',\n",
       "       'has_roundB', 'has_roundC', 'has_roundD', 'avg_participants',\n",
       "       'is_top500', 'status'],\n",
       "      dtype='object')"
      ]
     },
     "execution_count": 19,
     "metadata": {},
     "output_type": "execute_result"
    }
   ],
   "source": [
    "data.columns"
   ]
  },
  {
   "cell_type": "code",
   "execution_count": 20,
   "metadata": {},
   "outputs": [],
   "source": [
    "data.drop(columns=['Unnamed: 0'], inplace=True)"
   ]
  },
  {
   "cell_type": "code",
   "execution_count": 31,
   "metadata": {},
   "outputs": [
    {
     "data": {
      "text/html": [
       "<div>\n",
       "<style scoped>\n",
       "    .dataframe tbody tr th:only-of-type {\n",
       "        vertical-align: middle;\n",
       "    }\n",
       "\n",
       "    .dataframe tbody tr th {\n",
       "        vertical-align: top;\n",
       "    }\n",
       "\n",
       "    .dataframe thead th {\n",
       "        text-align: right;\n",
       "    }\n",
       "</style>\n",
       "<table border=\"1\" class=\"dataframe\">\n",
       "  <thead>\n",
       "    <tr style=\"text-align: right;\">\n",
       "      <th></th>\n",
       "      <th>city</th>\n",
       "      <th>state_code</th>\n",
       "    </tr>\n",
       "  </thead>\n",
       "  <tbody>\n",
       "    <tr>\n",
       "      <th>0</th>\n",
       "      <td>San Diego</td>\n",
       "      <td>CA</td>\n",
       "    </tr>\n",
       "    <tr>\n",
       "      <th>1</th>\n",
       "      <td>Los Gatos</td>\n",
       "      <td>CA</td>\n",
       "    </tr>\n",
       "    <tr>\n",
       "      <th>2</th>\n",
       "      <td>San Diego</td>\n",
       "      <td>CA</td>\n",
       "    </tr>\n",
       "    <tr>\n",
       "      <th>3</th>\n",
       "      <td>Cupertino</td>\n",
       "      <td>CA</td>\n",
       "    </tr>\n",
       "    <tr>\n",
       "      <th>4</th>\n",
       "      <td>San Francisco</td>\n",
       "      <td>CA</td>\n",
       "    </tr>\n",
       "  </tbody>\n",
       "</table>\n",
       "</div>"
      ],
      "text/plain": [
       "            city state_code\n",
       "0      San Diego         CA\n",
       "1      Los Gatos         CA\n",
       "2      San Diego         CA\n",
       "3      Cupertino         CA\n",
       "4  San Francisco         CA"
      ]
     },
     "execution_count": 31,
     "metadata": {},
     "output_type": "execute_result"
    }
   ],
   "source": [
    "data = data[['city', 'state_code']]\n",
    "data.head()"
   ]
  },
  {
   "cell_type": "code",
   "execution_count": 21,
   "metadata": {},
   "outputs": [
    {
     "data": {
      "text/html": [
       "<div>\n",
       "<style scoped>\n",
       "    .dataframe tbody tr th:only-of-type {\n",
       "        vertical-align: middle;\n",
       "    }\n",
       "\n",
       "    .dataframe tbody tr th {\n",
       "        vertical-align: top;\n",
       "    }\n",
       "\n",
       "    .dataframe thead th {\n",
       "        text-align: right;\n",
       "    }\n",
       "</style>\n",
       "<table border=\"1\" class=\"dataframe\">\n",
       "  <thead>\n",
       "    <tr style=\"text-align: right;\">\n",
       "      <th></th>\n",
       "      <th>state_code</th>\n",
       "      <th>latitude</th>\n",
       "      <th>longitude</th>\n",
       "      <th>zip_code</th>\n",
       "      <th>id</th>\n",
       "      <th>city</th>\n",
       "      <th>Unnamed: 6</th>\n",
       "      <th>name</th>\n",
       "      <th>labels</th>\n",
       "      <th>founded_at</th>\n",
       "      <th>...</th>\n",
       "      <th>object_id</th>\n",
       "      <th>has_VC</th>\n",
       "      <th>has_angel</th>\n",
       "      <th>has_roundA</th>\n",
       "      <th>has_roundB</th>\n",
       "      <th>has_roundC</th>\n",
       "      <th>has_roundD</th>\n",
       "      <th>avg_participants</th>\n",
       "      <th>is_top500</th>\n",
       "      <th>status</th>\n",
       "    </tr>\n",
       "  </thead>\n",
       "  <tbody>\n",
       "    <tr>\n",
       "      <th>0</th>\n",
       "      <td>CA</td>\n",
       "      <td>42.358880</td>\n",
       "      <td>-71.056820</td>\n",
       "      <td>92101</td>\n",
       "      <td>c:6669</td>\n",
       "      <td>San Diego</td>\n",
       "      <td>NaN</td>\n",
       "      <td>Bandsintown</td>\n",
       "      <td>1</td>\n",
       "      <td>1/1/2007</td>\n",
       "      <td>...</td>\n",
       "      <td>c:6669</td>\n",
       "      <td>0</td>\n",
       "      <td>1</td>\n",
       "      <td>0</td>\n",
       "      <td>0</td>\n",
       "      <td>0</td>\n",
       "      <td>0</td>\n",
       "      <td>1.0000</td>\n",
       "      <td>0</td>\n",
       "      <td>acquired</td>\n",
       "    </tr>\n",
       "    <tr>\n",
       "      <th>1</th>\n",
       "      <td>CA</td>\n",
       "      <td>37.238916</td>\n",
       "      <td>-121.973718</td>\n",
       "      <td>95032</td>\n",
       "      <td>c:16283</td>\n",
       "      <td>Los Gatos</td>\n",
       "      <td>NaN</td>\n",
       "      <td>TriCipher</td>\n",
       "      <td>1</td>\n",
       "      <td>1/1/2000</td>\n",
       "      <td>...</td>\n",
       "      <td>c:16283</td>\n",
       "      <td>1</td>\n",
       "      <td>0</td>\n",
       "      <td>0</td>\n",
       "      <td>1</td>\n",
       "      <td>1</td>\n",
       "      <td>1</td>\n",
       "      <td>4.7500</td>\n",
       "      <td>1</td>\n",
       "      <td>acquired</td>\n",
       "    </tr>\n",
       "    <tr>\n",
       "      <th>2</th>\n",
       "      <td>CA</td>\n",
       "      <td>32.901049</td>\n",
       "      <td>-117.192656</td>\n",
       "      <td>92121</td>\n",
       "      <td>c:65620</td>\n",
       "      <td>San Diego</td>\n",
       "      <td>San Diego CA 92121</td>\n",
       "      <td>Plixi</td>\n",
       "      <td>1</td>\n",
       "      <td>3/18/2009</td>\n",
       "      <td>...</td>\n",
       "      <td>c:65620</td>\n",
       "      <td>0</td>\n",
       "      <td>0</td>\n",
       "      <td>1</td>\n",
       "      <td>0</td>\n",
       "      <td>0</td>\n",
       "      <td>0</td>\n",
       "      <td>4.0000</td>\n",
       "      <td>1</td>\n",
       "      <td>acquired</td>\n",
       "    </tr>\n",
       "    <tr>\n",
       "      <th>3</th>\n",
       "      <td>CA</td>\n",
       "      <td>37.320309</td>\n",
       "      <td>-122.050040</td>\n",
       "      <td>95014</td>\n",
       "      <td>c:42668</td>\n",
       "      <td>Cupertino</td>\n",
       "      <td>Cupertino CA 95014</td>\n",
       "      <td>Solidcore Systems</td>\n",
       "      <td>1</td>\n",
       "      <td>1/1/2002</td>\n",
       "      <td>...</td>\n",
       "      <td>c:42668</td>\n",
       "      <td>0</td>\n",
       "      <td>0</td>\n",
       "      <td>0</td>\n",
       "      <td>1</td>\n",
       "      <td>1</td>\n",
       "      <td>1</td>\n",
       "      <td>3.3333</td>\n",
       "      <td>1</td>\n",
       "      <td>acquired</td>\n",
       "    </tr>\n",
       "    <tr>\n",
       "      <th>4</th>\n",
       "      <td>CA</td>\n",
       "      <td>37.779281</td>\n",
       "      <td>-122.419236</td>\n",
       "      <td>94105</td>\n",
       "      <td>c:65806</td>\n",
       "      <td>San Francisco</td>\n",
       "      <td>San Francisco CA 94105</td>\n",
       "      <td>Inhale Digital</td>\n",
       "      <td>0</td>\n",
       "      <td>8/1/2010</td>\n",
       "      <td>...</td>\n",
       "      <td>c:65806</td>\n",
       "      <td>1</td>\n",
       "      <td>1</td>\n",
       "      <td>0</td>\n",
       "      <td>0</td>\n",
       "      <td>0</td>\n",
       "      <td>0</td>\n",
       "      <td>1.0000</td>\n",
       "      <td>1</td>\n",
       "      <td>closed</td>\n",
       "    </tr>\n",
       "  </tbody>\n",
       "</table>\n",
       "<p>5 rows × 48 columns</p>\n",
       "</div>"
      ],
      "text/plain": [
       "  state_code   latitude   longitude zip_code       id           city  \\\n",
       "0         CA  42.358880  -71.056820    92101   c:6669      San Diego   \n",
       "1         CA  37.238916 -121.973718    95032  c:16283      Los Gatos   \n",
       "2         CA  32.901049 -117.192656    92121  c:65620      San Diego   \n",
       "3         CA  37.320309 -122.050040    95014  c:42668      Cupertino   \n",
       "4         CA  37.779281 -122.419236    94105  c:65806  San Francisco   \n",
       "\n",
       "               Unnamed: 6               name  labels founded_at  ...  \\\n",
       "0                     NaN        Bandsintown       1   1/1/2007  ...   \n",
       "1                     NaN          TriCipher       1   1/1/2000  ...   \n",
       "2      San Diego CA 92121              Plixi       1  3/18/2009  ...   \n",
       "3      Cupertino CA 95014  Solidcore Systems       1   1/1/2002  ...   \n",
       "4  San Francisco CA 94105     Inhale Digital       0   8/1/2010  ...   \n",
       "\n",
       "  object_id has_VC has_angel  has_roundA  has_roundB  has_roundC  has_roundD  \\\n",
       "0    c:6669      0         1           0           0           0           0   \n",
       "1   c:16283      1         0           0           1           1           1   \n",
       "2   c:65620      0         0           1           0           0           0   \n",
       "3   c:42668      0         0           0           1           1           1   \n",
       "4   c:65806      1         1           0           0           0           0   \n",
       "\n",
       "   avg_participants  is_top500    status  \n",
       "0            1.0000          0  acquired  \n",
       "1            4.7500          1  acquired  \n",
       "2            4.0000          1  acquired  \n",
       "3            3.3333          1  acquired  \n",
       "4            1.0000          1    closed  \n",
       "\n",
       "[5 rows x 48 columns]"
      ]
     },
     "execution_count": 21,
     "metadata": {},
     "output_type": "execute_result"
    }
   ],
   "source": [
    "data.head()"
   ]
  },
  {
   "cell_type": "code",
   "execution_count": 22,
   "metadata": {},
   "outputs": [],
   "source": [
    "data.to_csv('startup_data_processed.csv', index=False)"
   ]
  },
  {
   "cell_type": "code",
   "execution_count": 23,
   "metadata": {},
   "outputs": [
    {
     "data": {
      "text/plain": [
       "Index(['state_code', 'latitude', 'longitude', 'zip_code', 'id', 'city',\n",
       "       'Unnamed: 6', 'name', 'labels', 'founded_at', 'closed_at',\n",
       "       'first_funding_at', 'last_funding_at', 'age_first_funding_year',\n",
       "       'age_last_funding_year', 'age_first_milestone_year',\n",
       "       'age_last_milestone_year', 'relationships', 'funding_rounds',\n",
       "       'funding_total_usd', 'milestones', 'state_code.1', 'is_CA', 'is_NY',\n",
       "       'is_MA', 'is_TX', 'is_otherstate', 'category_code', 'is_software',\n",
       "       'is_web', 'is_mobile', 'is_enterprise', 'is_advertising',\n",
       "       'is_gamesvideo', 'is_ecommerce', 'is_biotech', 'is_consulting',\n",
       "       'is_othercategory', 'object_id', 'has_VC', 'has_angel', 'has_roundA',\n",
       "       'has_roundB', 'has_roundC', 'has_roundD', 'avg_participants',\n",
       "       'is_top500', 'status'],\n",
       "      dtype='object')"
      ]
     },
     "execution_count": 23,
     "metadata": {},
     "output_type": "execute_result"
    }
   ],
   "source": [
    "data.columns"
   ]
  },
  {
   "cell_type": "code",
   "execution_count": 24,
   "metadata": {},
   "outputs": [
    {
     "data": {
      "text/plain": [
       "array(['San Diego', 'Los Gatos', 'Cupertino', 'San Francisco',\n",
       "       'Mountain View', 'San Rafael', 'Williamstown', 'Palo Alto',\n",
       "       'Menlo Park', 'Louisville', 'Brooklyn', 'Denver', 'Vienna',\n",
       "       'Los Altos', 'Burlingame', 'New York', 'Austin', 'Seattle',\n",
       "       'Boulder', 'Chicago', 'Berkeley', 'Santa Ana', 'Moffett Field',\n",
       "       'Durham', 'Pittsburgh', 'San Jose', 'Atlanta', 'Manchester',\n",
       "       'Sunnyvale', 'Cambridge', 'San Mateo', 'South San Francisco',\n",
       "       'Boston', 'Waltham', 'Aliso Viejo', 'Kansas City', 'Wilmington',\n",
       "       'Kirkland', 'Tampa', 'Alameda', 'Bothell', 'Dallas', 'Fremont',\n",
       "       'Santa Clara', 'Princeton', 'Loveland', 'Kearneysville',\n",
       "       'Los Angeles', 'Canton', 'Bellevue', 'Washington', 'Somerset',\n",
       "       'Alpharetta', 'Charlottesville', 'Dulles', 'Bloomfield',\n",
       "       'Santa Monica', 'Milpitas', 'Raleigh', 'Somerville',\n",
       "       'Redwood City', 'Timonium', 'Reston', 'Cincinnati', 'Campbell',\n",
       "       'Sterling', 'Foster City', 'Oakland', 'Petaluma', 'Arlington',\n",
       "       'Centennial', 'Memphis', 'Plymouth', 'Conshohocken', 'Needham',\n",
       "       'Newport Beach', 'Longmont', 'Naperville', 'Pasadena',\n",
       "       'Warrenville', 'Berwyn', 'Morgan Hill', 'Marlborough',\n",
       "       'Playa Vista', 'Providence', 'Monterey Park', 'Plano',\n",
       "       'Bingham Farms', 'Philadelphia', 'Freedom', 'Bethesda', 'Portland',\n",
       "       'Allentown', 'North Billerica', 'Duluth', 'Boxborough',\n",
       "       'Salt Lake City', 'The Woodlands', 'Burlington', 'Weston',\n",
       "       'Santa Barbara', 'Columbia', 'SPOKANE', 'Maynard', 'Frederick',\n",
       "       'West Newfield', 'Long Island City', 'NY', 'Englewood',\n",
       "       'Solana Beach', 'NW Atlanta', 'Bala Cynwyd', 'San Bruno',\n",
       "       'Evanston', 'Carlsbad', 'West Hollywood', 'San Franciso',\n",
       "       'Richardson', 'Zeeland', 'Herndon', 'Paramus', 'Minneapolis',\n",
       "       'Addison', 'Irvine', 'Woburn', 'New York City', 'Larkspur',\n",
       "       'Henderson', 'McLean', 'Lowell', 'Woodbury', 'Littleton',\n",
       "       'Glendale', 'Billerica', 'Broomfield', 'Beverly Hills', 'Hartford',\n",
       "       'Greenwood Village', 'College Park', 'Napa', 'Itasca', 'Lexington',\n",
       "       'Calabasas', 'North Reading', 'Lindon', 'Albuquerque', 'Red Bank',\n",
       "       'Bethlehem', 'Saint Louis', 'Indianapolis', 'New Hope',\n",
       "       'North Hollywood', 'Waco', 'Carpinteria', 'West Chester',\n",
       "       'Nashville', 'Bedford', 'Belmont', 'Puyallup', 'Chevy Chase',\n",
       "       'Chantilly', 'Lake Oswego', 'Tewksbury', 'Dedham', 'Lawrenceville',\n",
       "       'Jersey City', 'NYC', 'Annapolis', 'Las Vegas', 'Andover',\n",
       "       'Minnetonka', 'Vancouver', 'Pleasanton', 'El Segundo',\n",
       "       'Farmington', 'Nashua', 'Saint Paul', 'Sunnnyvale', 'Champaign',\n",
       "       'Golden Valley', 'Pittsboro', 'Brisbane', 'Westford', 'Emeryville',\n",
       "       'Hollywood', 'Viena', 'Hillsborough', 'Potomac Falls', 'Tempe',\n",
       "       'Tualatin', 'Framingham', 'Rye Brook', 'Redmond', 'Yardley',\n",
       "       'Kenmore', 'Laguna Niguel', 'La Jolla', 'Cleveland', 'Lancaster',\n",
       "       'Thousand Oaks', 'Provo', 'Columbus', 'Arcadia', 'Yorba Linda',\n",
       "       'San Carlos', 'Acton', 'Newton', 'Toledo', 'Torrance',\n",
       "       'Altamonte Springs', 'Westport', 'Chelmsford', 'El Segundo,',\n",
       "       'Hampton', 'Idaho Falls', 'Scotts Valley', 'Avon', 'Little Rock',\n",
       "       'Lisle', 'Houston', 'Middleton'], dtype=object)"
      ]
     },
     "execution_count": 24,
     "metadata": {},
     "output_type": "execute_result"
    }
   ],
   "source": [
    "data.city.unique()"
   ]
  },
  {
   "cell_type": "code",
   "execution_count": 25,
   "metadata": {},
   "outputs": [
    {
     "data": {
      "text/plain": [
       "array(['CA', 'MA', 'KY', 'NY', 'CO', 'VA', 'TX', 'WA', 'IL', 'NC', 'PA',\n",
       "       'GA', 'NH', 'MO', 'FL', 'NJ', 'WV', 'MI', 'DC', 'CT', 'MD', 'OH',\n",
       "       'TN', 'MN', 'RI', 'OR', 'UT', 'ME', 'NV', 'NM', 'IN', 'AZ', 'ID',\n",
       "       'AR', 'WI'], dtype=object)"
      ]
     },
     "execution_count": 25,
     "metadata": {},
     "output_type": "execute_result"
    }
   ],
   "source": [
    "data.state_code.unique()"
   ]
  },
  {
   "cell_type": "code",
   "execution_count": 26,
   "metadata": {},
   "outputs": [
    {
     "data": {
      "text/plain": [
       "0          San Diego\n",
       "1          Los Gatos\n",
       "2          San Diego\n",
       "3          Cupertino\n",
       "4      San Francisco\n",
       "           ...      \n",
       "918    San Francisco\n",
       "919       Burlington\n",
       "920        Sunnyvale\n",
       "921    San Francisco\n",
       "922      Santa Clara\n",
       "Name: city, Length: 923, dtype: object"
      ]
     },
     "execution_count": 26,
     "metadata": {},
     "output_type": "execute_result"
    }
   ],
   "source": [
    "data['city']"
   ]
  },
  {
   "cell_type": "code",
   "execution_count": 27,
   "metadata": {},
   "outputs": [
    {
     "data": {
      "text/plain": [
       "array([173, 108, 173,  55, 174, 125, 125, 178, 214, 143, 117, 117, 109,\n",
       "        32,  58, 203, 106,  34, 135, 143,  13, 184, 143, 174,  29,  48,\n",
       "       143,  19,  13, 179, 122, 184,  61, 174, 149, 135, 174, 176, 174,\n",
       "       135,  12, 112, 117, 184, 191, 191, 135,  37, 174, 177, 188,  27,\n",
       "        13, 205, 174, 143, 143,   4, 191,  88, 215, 174,  91, 192,  27,\n",
       "         2,  28,  29, 177, 174, 174, 191, 192, 174,  56,  72, 181, 174,\n",
       "       135,  37, 174, 156, 110, 125, 135,  89, 107,  39, 125,  17, 181,\n",
       "       207, 174, 174, 135, 125,  48, 186, 174,  19,   6, 184,  17, 176,\n",
       "       174,  45,  59,  48, 174,  26, 182, 181, 119, 117, 173, 174,  34,\n",
       "       160, 135, 135, 187, 163,  13, 135,  72, 205, 197, 149, 164,  72,\n",
       "       135,  48, 181, 143,  49,  12, 176,  37, 177, 174,  38, 174, 135,\n",
       "       181, 189, 174, 174, 135, 177,  68,  12, 107, 142,  72, 146, 174,\n",
       "        48,  27, 191,  11, 184,  42,  48, 177, 176,  13, 174, 116, 135,\n",
       "        34, 135, 135,  37, 153, 174,  13, 184, 174,  54, 133, 137,  13,\n",
       "       105, 163, 135, 174, 130, 145, 176, 174, 205, 174, 119, 174, 174,\n",
       "       173,  27, 125, 149, 177, 182, 206, 160,  20, 191, 174, 174, 124,\n",
       "       125,  13, 113, 174, 174,  12, 135, 176, 151, 174,  55, 135, 157,\n",
       "       207, 174, 174, 174, 184, 125, 135, 163, 123, 150, 125,  13, 145,\n",
       "        72,  25, 176,  48, 135, 147, 125,  71,  27,  37, 174,  13, 184,\n",
       "        21, 154, 135,   5, 135, 139, 107,  58,  60, 125, 157, 174, 174,\n",
       "       205,  30, 163, 170, 195, 143,  13, 125, 174, 174,  35, 184, 174,\n",
       "       174,   2,  61, 135, 163, 177, 133, 212, 143, 174, 180, 143, 107,\n",
       "       182, 125, 181, 174, 125,  52, 125, 167,  35, 184,  37, 114,  70,\n",
       "        72,  13, 191, 135, 174, 143, 173, 210, 135, 174, 104, 163, 174,\n",
       "       174, 174, 184,  17, 127, 117,  65, 185, 135, 174, 126, 174, 174,\n",
       "        15, 171, 174, 174,  66, 125,  40, 174, 173,  55, 209, 175, 135,\n",
       "       135, 174, 125,  35,  13, 173, 143, 135, 174, 135, 182, 165, 220,\n",
       "        79, 144, 149, 143, 174, 135, 120,  27, 176,  61, 174, 135, 174,\n",
       "        91,   1, 135, 125,  85, 216, 135,  35,  27, 136,  96, 107, 184,\n",
       "       171, 174,  27, 135, 163, 174,  85, 182, 135, 143, 205, 181, 205,\n",
       "        78,  27, 115, 176, 181, 143, 181, 135, 125,  34, 111, 182,  17,\n",
       "       217, 181, 174, 135, 135, 125, 103, 107,  73,  13,  48, 135, 174,\n",
       "       135, 135, 174,  24, 173, 135, 184, 108,  33,  68, 125, 154, 135,\n",
       "        27,  13,  23,  77,  75, 184,  51, 135, 107,   1, 129, 174, 135,\n",
       "       174, 125,  86,  37,  99, 181, 205,  85, 143, 192, 135, 174,  68,\n",
       "       174, 135, 135, 184, 182, 174, 163, 177, 174,  13,  36, 174, 135,\n",
       "        49, 141, 125,  49, 107,  34, 174,  27, 165, 100, 107,   3, 161,\n",
       "       143,  27, 143,  22, 191, 181, 168, 191, 143, 171, 136, 135,  13,\n",
       "        32, 147, 107,  84,  35, 143, 177, 117, 134,  65, 107, 177, 135,\n",
       "       146, 163, 140, 204, 181,  29, 135,  41, 117, 125, 117, 125,  48,\n",
       "       136, 125, 208, 174, 132, 191, 135,  16,  18, 132, 174, 159, 177,\n",
       "       174,  30, 191, 184, 182, 177, 177, 181,  47, 177, 143,  17, 191,\n",
       "        36, 174, 109, 216, 117, 117,  38, 135, 143, 143,  30, 174, 135,\n",
       "        12, 174, 174,  37, 177, 125, 135,  99, 117,  44, 143, 205, 181,\n",
       "       181, 115,  94, 135,   5, 194, 163,  13, 181,  57,  55, 191,  27,\n",
       "        98,  87, 128,   9, 125, 174, 125,  13, 176, 125, 181, 207, 135,\n",
       "        38,  35,  97, 181, 135, 174, 165, 191,   8, 106, 121, 125, 125,\n",
       "       173, 125, 135, 174,  55, 163, 107, 201, 188, 205,  99, 152, 181,\n",
       "       135,  62,  67, 191, 135, 135, 176, 135, 125, 173, 184, 174,  13,\n",
       "        65, 107, 117, 171, 192, 113, 131, 125,  55, 174,  29, 184, 174,\n",
       "       169, 147, 152, 173,  35, 190, 177, 174,  43, 181,  74, 148,  37,\n",
       "       184,  37,  35, 117, 174, 135,  31, 135, 184, 174, 117, 211, 160,\n",
       "       117, 205, 143, 174,  24, 127,  48, 216,  38, 135, 174,  32, 135,\n",
       "        32,  48,  13, 176,  64, 176, 125, 174,  13, 135, 125, 176, 165,\n",
       "       207, 205,  72,  38,  35, 174,  12, 174,  81, 107, 202,  13,  38,\n",
       "        80, 155,  12, 177, 180,  13, 174, 193,  37, 200,  37,  48, 119,\n",
       "       163, 125,  69, 166, 162, 177,  32, 184, 218, 125,  40, 182, 174,\n",
       "       174, 178,  81,  19, 145, 135, 176, 135, 173, 154, 174,  37, 191,\n",
       "        90,  93, 125, 125,  92, 163,  13, 174, 174, 174,   1, 125, 135,\n",
       "       152, 173, 135, 135,  50,  84,  37,  64, 125, 174, 177,  95, 184,\n",
       "       176, 196, 158, 143, 135, 135, 108,  53, 145, 154, 174, 162, 174,\n",
       "        68, 174, 135,  58,  55, 191, 125,  10, 177,  17, 163,  31, 135,\n",
       "       191, 143, 219, 191, 135,  38, 143, 172, 107, 143, 174, 174, 184,\n",
       "        17,   0,  56, 143, 138, 193, 191, 181, 198, 184,  40, 174, 135,\n",
       "        72,  13, 177, 181, 177, 177, 177, 199, 174, 182,   7, 213, 184,\n",
       "       143, 184, 157, 135,  46, 174, 174,  29,  48, 174, 143, 135, 174,\n",
       "       181,  13,  63, 177,  76,  83, 173, 174, 125, 174,  35, 117,   0,\n",
       "       125,  38,  38, 135,  37, 176, 143, 183,  92,  62, 174,   1, 174,\n",
       "       115,  14,   4, 174, 154, 191, 143, 174, 102, 135,  37, 205, 135,\n",
       "       173, 101, 135,  29, 143,  55, 181,  82, 176, 181, 177, 174, 125,\n",
       "       135, 188, 174,  82, 135, 118, 135,  28, 174,  35, 191, 174, 181])"
      ]
     },
     "execution_count": 27,
     "metadata": {},
     "output_type": "execute_result"
    }
   ],
   "source": [
    "from sklearn.preprocessing import LabelEncoder\n",
    "le = LabelEncoder()\n",
    "le.fit_transform(data['city'])"
   ]
  }
 ],
 "metadata": {
  "kernelspec": {
   "display_name": "Python 3",
   "language": "python",
   "name": "python3"
  },
  "language_info": {
   "codemirror_mode": {
    "name": "ipython",
    "version": 3
   },
   "file_extension": ".py",
   "mimetype": "text/x-python",
   "name": "python",
   "nbconvert_exporter": "python",
   "pygments_lexer": "ipython3",
   "version": "3.11.8"
  }
 },
 "nbformat": 4,
 "nbformat_minor": 2
}
